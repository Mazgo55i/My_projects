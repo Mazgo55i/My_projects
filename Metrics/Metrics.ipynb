{
 "cells": [
  {
   "cell_type": "code",
   "execution_count": 230,
   "id": "0d95e58d",
   "metadata": {},
   "outputs": [],
   "source": [
    "import pandas as pd"
   ]
  },
  {
   "cell_type": "code",
   "execution_count": 231,
   "id": "3b037a98",
   "metadata": {},
   "outputs": [],
   "source": [
    "transactions_metrics = pd.read_csv('transactions_metrics.csv')"
   ]
  },
  {
   "cell_type": "markdown",
   "id": "c50b9023",
   "metadata": {},
   "source": [
    "Описание колонок:\n",
    "    \n",
    "clientid – id клиента\n",
    "\n",
    "\n",
    "transaction_id – transaction id\n",
    "\n",
    "revenue – сумма заказа\n",
    "\n",
    "date – дата\n",
    "\n",
    "\n",
    "Всего уникальных пользователей 220000"
   ]
  },
  {
   "cell_type": "code",
   "execution_count": 232,
   "id": "628e79d5",
   "metadata": {},
   "outputs": [
    {
     "data": {
      "text/html": [
       "<div>\n",
       "<style scoped>\n",
       "    .dataframe tbody tr th:only-of-type {\n",
       "        vertical-align: middle;\n",
       "    }\n",
       "\n",
       "    .dataframe tbody tr th {\n",
       "        vertical-align: top;\n",
       "    }\n",
       "\n",
       "    .dataframe thead th {\n",
       "        text-align: right;\n",
       "    }\n",
       "</style>\n",
       "<table border=\"1\" class=\"dataframe\">\n",
       "  <thead>\n",
       "    <tr style=\"text-align: right;\">\n",
       "      <th></th>\n",
       "      <th>client_id</th>\n",
       "      <th>transaction_id</th>\n",
       "      <th>revenue</th>\n",
       "      <th>date</th>\n",
       "    </tr>\n",
       "  </thead>\n",
       "  <tbody>\n",
       "    <tr>\n",
       "      <th>0</th>\n",
       "      <td>1420439</td>\n",
       "      <td>2608</td>\n",
       "      <td>24255</td>\n",
       "      <td>2020-11-30</td>\n",
       "    </tr>\n",
       "    <tr>\n",
       "      <th>1</th>\n",
       "      <td>1420678</td>\n",
       "      <td>5656</td>\n",
       "      <td>20673</td>\n",
       "      <td>2020-11-30</td>\n",
       "    </tr>\n",
       "    <tr>\n",
       "      <th>2</th>\n",
       "      <td>1421738</td>\n",
       "      <td>1888</td>\n",
       "      <td>25186</td>\n",
       "      <td>2020-11-30</td>\n",
       "    </tr>\n",
       "    <tr>\n",
       "      <th>3</th>\n",
       "      <td>1422530</td>\n",
       "      <td>2400</td>\n",
       "      <td>23875</td>\n",
       "      <td>2020-11-30</td>\n",
       "    </tr>\n",
       "    <tr>\n",
       "      <th>4</th>\n",
       "      <td>1422540</td>\n",
       "      <td>5964</td>\n",
       "      <td>27646</td>\n",
       "      <td>2020-11-30</td>\n",
       "    </tr>\n",
       "    <tr>\n",
       "      <th>...</th>\n",
       "      <td>...</td>\n",
       "      <td>...</td>\n",
       "      <td>...</td>\n",
       "      <td>...</td>\n",
       "    </tr>\n",
       "    <tr>\n",
       "      <th>7995</th>\n",
       "      <td>1448696</td>\n",
       "      <td>5782</td>\n",
       "      <td>21915</td>\n",
       "      <td>2020-12-30</td>\n",
       "    </tr>\n",
       "    <tr>\n",
       "      <th>7996</th>\n",
       "      <td>1448803</td>\n",
       "      <td>4076</td>\n",
       "      <td>25455</td>\n",
       "      <td>2020-12-30</td>\n",
       "    </tr>\n",
       "    <tr>\n",
       "      <th>7997</th>\n",
       "      <td>1448878</td>\n",
       "      <td>1824</td>\n",
       "      <td>26693</td>\n",
       "      <td>2020-12-30</td>\n",
       "    </tr>\n",
       "    <tr>\n",
       "      <th>7998</th>\n",
       "      <td>1449756</td>\n",
       "      <td>3242</td>\n",
       "      <td>27516</td>\n",
       "      <td>2020-12-30</td>\n",
       "    </tr>\n",
       "    <tr>\n",
       "      <th>7999</th>\n",
       "      <td>1450065</td>\n",
       "      <td>6374</td>\n",
       "      <td>24395</td>\n",
       "      <td>2020-12-30</td>\n",
       "    </tr>\n",
       "  </tbody>\n",
       "</table>\n",
       "<p>8000 rows × 4 columns</p>\n",
       "</div>"
      ],
      "text/plain": [
       "      client_id  transaction_id  revenue        date\n",
       "0       1420439            2608    24255  2020-11-30\n",
       "1       1420678            5656    20673  2020-11-30\n",
       "2       1421738            1888    25186  2020-11-30\n",
       "3       1422530            2400    23875  2020-11-30\n",
       "4       1422540            5964    27646  2020-11-30\n",
       "...         ...             ...      ...         ...\n",
       "7995    1448696            5782    21915  2020-12-30\n",
       "7996    1448803            4076    25455  2020-12-30\n",
       "7997    1448878            1824    26693  2020-12-30\n",
       "7998    1449756            3242    27516  2020-12-30\n",
       "7999    1450065            6374    24395  2020-12-30\n",
       "\n",
       "[8000 rows x 4 columns]"
      ]
     },
     "execution_count": 232,
     "metadata": {},
     "output_type": "execute_result"
    }
   ],
   "source": [
    "transactions_metrics"
   ]
  },
  {
   "cell_type": "markdown",
   "id": "43f67bfc",
   "metadata": {},
   "source": [
    " В датасете 8000 строк и 4 колонки, в них содержится информация о покупках на маркетплейсе за месяц"
   ]
  },
  {
   "cell_type": "markdown",
   "id": "2bbfda1b",
   "metadata": {},
   "source": [
    "Посмотрим пропущенные значения"
   ]
  },
  {
   "cell_type": "code",
   "execution_count": 241,
   "id": "79ed4b86",
   "metadata": {},
   "outputs": [
    {
     "name": "stdout",
     "output_type": "stream",
     "text": [
      "<class 'pandas.core.frame.DataFrame'>\n",
      "RangeIndex: 8000 entries, 0 to 7999\n",
      "Data columns (total 4 columns):\n",
      " #   Column          Non-Null Count  Dtype \n",
      "---  ------          --------------  ----- \n",
      " 0   client_id       8000 non-null   int64 \n",
      " 1   transaction_id  8000 non-null   int64 \n",
      " 2   revenue         8000 non-null   int64 \n",
      " 3   date            8000 non-null   object\n",
      "dtypes: int64(3), object(1)\n",
      "memory usage: 250.1+ KB\n"
     ]
    }
   ],
   "source": [
    "transactions_metrics.info()"
   ]
  },
  {
   "cell_type": "markdown",
   "id": "6e7c384d",
   "metadata": {},
   "source": [
    "С датасетом все впорядке, посчитаем метрики"
   ]
  },
  {
   "cell_type": "code",
   "execution_count": 242,
   "id": "d69edc0c",
   "metadata": {},
   "outputs": [
    {
     "data": {
      "text/plain": [
       "6135"
      ]
     },
     "execution_count": 242,
     "metadata": {},
     "output_type": "execute_result"
    }
   ],
   "source": [
    "# количество уникальных клиентов\n",
    "clients = transactions_metrics.client_id.nunique()\n",
    "clients"
   ]
  },
  {
   "cell_type": "code",
   "execution_count": 235,
   "id": "22e55a98",
   "metadata": {},
   "outputs": [],
   "source": [
    "# всего пользователей\n",
    "all_users = 220000"
   ]
  },
  {
   "cell_type": "code",
   "execution_count": 236,
   "id": "364af9da",
   "metadata": {},
   "outputs": [
    {
     "data": {
      "text/plain": [
       "2.789"
      ]
     },
     "execution_count": 236,
     "metadata": {},
     "output_type": "execute_result"
    }
   ],
   "source": [
    "# конверсия\n",
    "\n",
    "cr = round((clients / all_users) * 100, 3)\n",
    "cr"
   ]
  },
  {
   "cell_type": "code",
   "execution_count": 237,
   "id": "940d75ff",
   "metadata": {},
   "outputs": [
    {
     "data": {
      "text/plain": [
       "25005.0"
      ]
     },
     "execution_count": 237,
     "metadata": {},
     "output_type": "execute_result"
    }
   ],
   "source": [
    "# средний чек\n",
    "\n",
    "round(transactions_metrics.revenue.sum() / transactions_metrics.shape[0], 0)"
   ]
  },
  {
   "cell_type": "code",
   "execution_count": 238,
   "id": "cbcfe1a5",
   "metadata": {},
   "outputs": [
    {
     "data": {
      "text/plain": [
       "1.3"
      ]
     },
     "execution_count": 238,
     "metadata": {},
     "output_type": "execute_result"
    }
   ],
   "source": [
    "# среднее количество покупок на клиента\n",
    "\n",
    "round(transactions_metrics.groupby(['client_id'], as_index=False) \\\n",
    "    .agg({'transaction_id': 'count'}) \\\n",
    "    .transaction_id.mean(), 2)"
   ]
  },
  {
   "cell_type": "code",
   "execution_count": 239,
   "id": "ab6780ee",
   "metadata": {},
   "outputs": [
    {
     "data": {
      "text/plain": [
       "32606.0"
      ]
     },
     "execution_count": 239,
     "metadata": {},
     "output_type": "execute_result"
    }
   ],
   "source": [
    "# ARPPU (средняя прибыль от одного платящего клиента)\n",
    "\n",
    "arppu = round(transactions_metrics.revenue.sum() / clients, 0)\n",
    "arppu"
   ]
  },
  {
   "cell_type": "code",
   "execution_count": 240,
   "id": "63015cf9",
   "metadata": {},
   "outputs": [
    {
     "data": {
      "text/plain": [
       "90938.0"
      ]
     },
     "execution_count": 240,
     "metadata": {},
     "output_type": "execute_result"
    }
   ],
   "source": [
    "# ARPU (сколько клиент в среднем тратит)\n",
    "\n",
    "arpu = round(arppu * cr, 0)\n",
    "\n",
    "arpu\n"
   ]
  }
 ],
 "metadata": {
  "kernelspec": {
   "display_name": "Python 3 (ipykernel)",
   "language": "python",
   "name": "python3"
  },
  "language_info": {
   "codemirror_mode": {
    "name": "ipython",
    "version": 3
   },
   "file_extension": ".py",
   "mimetype": "text/x-python",
   "name": "python",
   "nbconvert_exporter": "python",
   "pygments_lexer": "ipython3",
   "version": "3.9.7"
  }
 },
 "nbformat": 4,
 "nbformat_minor": 5
}
